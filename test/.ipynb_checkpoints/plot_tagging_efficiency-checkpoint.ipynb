{
 "cells": [
  {
   "cell_type": "markdown",
   "metadata": {},
   "source": [
    "# Neutron tagging efficiency"
   ]
  },
  {
   "cell_type": "code",
   "execution_count": 1,
   "metadata": {
    "collapsed": true
   },
   "outputs": [],
   "source": [
    "import numpy as np\n",
    "import root_pandas as rpd\n",
    "import matplotlib.pyplot as plt\n",
    "\n",
    "%matplotlib inline"
   ]
  },
  {
   "cell_type": "markdown",
   "metadata": {},
   "source": [
    "read pam output file"
   ]
  },
  {
   "cell_type": "code",
   "execution_count": 100,
   "metadata": {
    "collapsed": false
   },
   "outputs": [
    {
     "name": "stdout",
     "output_type": "stream",
     "text": [
      "pamn output has the following branches.\n",
      "- ns\n",
      "- t\n",
      "- x\n",
      "- y\n",
      "- z\n",
      "- fv\n",
      "- NR\n",
      "- Ed\n",
      "- S2\n",
      "- secondS2\n",
      "- nhits\n"
     ]
    }
   ],
   "source": [
    "df = rpd.read_root('cryostat_neutron_octagon.root')\n",
    "\n",
    "print('pamn output has the following branches.')\n",
    "for branch in df:\n",
    "    print('-', branch)"
   ]
  },
  {
   "cell_type": "markdown",
   "metadata": {},
   "source": [
    "apply \"less strict\" condition, which is concretely\n",
    "\n",
    "- at least one scatter\n",
    "- first scatter is nuclear recoil\n",
    "- no fiducial cut\n",
    "- no energy cut"
   ]
  },
  {
   "cell_type": "code",
   "execution_count": 49,
   "metadata": {
    "collapsed": false
   },
   "outputs": [],
   "source": [
    "df = df.query('(ns > 0) & (NR == 1)')"
   ]
  },
  {
   "cell_type": "markdown",
   "metadata": {},
   "source": [
    "draw neutron tagging efficiency\n",
    "\n",
    "- tagging efficiency for i-fold coincidence is calculated by integrating N-hits distribution after i-hits"
   ]
  },
  {
   "cell_type": "code",
   "execution_count": 71,
   "metadata": {
    "collapsed": false
   },
   "outputs": [
    {
     "data": {
      "image/png": "[encoded data removed]",
      "text/plain": [
       "<matplotlib.figure.Figure at 0x7f7ed5097780>"
      ]
     },
     "metadata": {},
     "output_type": "display_data"
    }
   ],
   "source": [
    "fig = plt.figure(figsize=(8, 6))\n",
    "ax = fig.add_subplot(1, 1, 1)\n",
    "\n",
    "nhits = plt.hist(df.nhits, bins=121, range=(0, 121), histtype='step')\n",
    "\n",
    "ax.set_xticks([i*10 for i in range(13)])\n",
    "ax.set_xlabel('N-hits')\n",
    "ax.set_ylabel('entries')\n",
    "ax.set_yscale('log')\n",
    "ax.set_axisbelow(True)\n",
    "ax.grid()"
   ]
  },
  {
   "cell_type": "code",
   "execution_count": 99,
   "metadata": {
    "collapsed": false
   },
   "outputs": [
    {
     "data": {
      "image/png": "[encoded data removed]",
      "text/plain": [
       "<matplotlib.figure.Figure at 0x7f7ed3d07390>"
      ]
     },
     "metadata": {},
     "output_type": "display_data"
    }
   ],
   "source": [
    "fig = plt.figure(figsize=(8, 6))\n",
    "ax = fig.add_subplot(1, 1, 1)\n",
    "\n",
    "tagging_efficiency = np.array([sum(nhits[0][i:121])/sum(nhits[0]) for i in range(121)])*100\n",
    "\n",
    "ax.plot(nhits[1][0:121], tagging_efficiency, 'o')\n",
    "ax.text(10.2, tagging_efficiency[10]+0.2, round(tagging_efficiency[10], 2), color='C0')\n",
    "\n",
    "ax.set_xlabel('N-fold coincidence')\n",
    "ax.set_ylabel('tagging efficiency [%]')\n",
    "\n",
    "ax.set_xticks([i for i in range(122)])\n",
    "ax.set_xlim(1.5, 20.5)\n",
    "ax.set_ylim(75, 92)\n",
    "ax.set_axisbelow(True)\n",
    "ax.grid()"
   ]
  }
 ],
 "metadata": {
  "kernelspec": {
   "display_name": "Python 3",
   "language": "python",
   "name": "python3"
  },
  "language_info": {
   "codemirror_mode": {
    "name": "ipython",
    "version": 3
   },
   "file_extension": ".py",
   "mimetype": "text/x-python",
   "name": "python",
   "nbconvert_exporter": "python",
   "pygments_lexer": "ipython3",
   "version": "3.4.4"
  }
 },
 "nbformat": 4,
 "nbformat_minor": 2
}
